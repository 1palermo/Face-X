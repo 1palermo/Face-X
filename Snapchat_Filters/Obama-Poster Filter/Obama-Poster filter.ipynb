{
 "cells": [
  {
   "cell_type": "code",
   "execution_count": 1,
   "id": "6425face",
   "metadata": {},
   "outputs": [],
   "source": [
    "import imageio as iio"
   ]
  },
  {
   "cell_type": "code",
   "execution_count": 2,
   "id": "a3bfb25a",
   "metadata": {},
   "outputs": [],
   "source": [
    "img = iio.imread(\"me.png\")"
   ]
  },
  {
   "cell_type": "code",
   "execution_count": 3,
   "id": "23d91445",
   "metadata": {},
   "outputs": [
    {
     "data": {
      "text/plain": [
       "Array([[[118, 117, 117],\n",
       "        [116, 115, 115],\n",
       "        [114, 112, 113],\n",
       "        ...,\n",
       "        [192, 186, 164],\n",
       "        [192, 186, 164],\n",
       "        [192, 186, 164]],\n",
       "\n",
       "       [[123, 122, 120],\n",
       "        [122, 121, 119],\n",
       "        [120, 119, 117],\n",
       "        ...,\n",
       "        [194, 188, 166],\n",
       "        [194, 188, 166],\n",
       "        [194, 188, 166]],\n",
       "\n",
       "       [[125, 124, 122],\n",
       "        [124, 123, 122],\n",
       "        [123, 122, 121],\n",
       "        ...,\n",
       "        [195, 189, 167],\n",
       "        [195, 189, 167],\n",
       "        [195, 189, 167]],\n",
       "\n",
       "       ...,\n",
       "\n",
       "       [[168, 152, 135],\n",
       "        [180, 166, 147],\n",
       "        [175, 162, 142],\n",
       "        ...,\n",
       "        [161, 150, 131],\n",
       "        [163, 152, 133],\n",
       "        [163, 152, 133]],\n",
       "\n",
       "       [[171, 155, 138],\n",
       "        [174, 159, 141],\n",
       "        [171, 156, 138],\n",
       "        ...,\n",
       "        [168, 157, 138],\n",
       "        [168, 157, 138],\n",
       "        [161, 150, 131]],\n",
       "\n",
       "       [[176, 160, 143],\n",
       "        [168, 152, 135],\n",
       "        [174, 158, 141],\n",
       "        ...,\n",
       "        [165, 154, 135],\n",
       "        [166, 155, 136],\n",
       "        [157, 146, 128]]], dtype=uint8)"
      ]
     },
     "execution_count": 3,
     "metadata": {},
     "output_type": "execute_result"
    }
   ],
   "source": [
    "img"
   ]
  },
  {
   "cell_type": "code",
   "execution_count": 4,
   "id": "87775f62",
   "metadata": {},
   "outputs": [
    {
     "data": {
      "text/plain": [
       "(825, 615, 3)"
      ]
     },
     "execution_count": 4,
     "metadata": {},
     "output_type": "execute_result"
    }
   ],
   "source": [
    "img.shape"
   ]
  },
  {
   "cell_type": "code",
   "execution_count": 5,
   "id": "8a3c526e",
   "metadata": {},
   "outputs": [
    {
     "data": {
      "text/plain": [
       "Array([[118, 117, 117],\n",
       "       [116, 115, 115],\n",
       "       [114, 112, 113],\n",
       "       ...,\n",
       "       [165, 154, 135],\n",
       "       [166, 155, 136],\n",
       "       [157, 146, 128]], dtype=uint8)"
      ]
     },
     "execution_count": 5,
     "metadata": {},
     "output_type": "execute_result"
    }
   ],
   "source": [
    "x = img.flatten().reshape(825*615,3)\n",
    "x"
   ]
  },
  {
   "cell_type": "code",
   "execution_count": 6,
   "id": "9b2277cb",
   "metadata": {},
   "outputs": [],
   "source": [
    "from sklearn.cluster import KMeans\n",
    "kmeans = KMeans(n_clusters=4, random_state=0).fit(x)"
   ]
  },
  {
   "cell_type": "code",
   "execution_count": 9,
   "id": "3d5746d7",
   "metadata": {},
   "outputs": [
    {
     "data": {
      "text/plain": [
       "array([0, 0, 0, ..., 2, 2, 2])"
      ]
     },
     "execution_count": 9,
     "metadata": {},
     "output_type": "execute_result"
    }
   ],
   "source": [
    "kmeans.labels_"
   ]
  },
  {
   "cell_type": "code",
   "execution_count": 7,
   "id": "8fb34642",
   "metadata": {},
   "outputs": [],
   "source": [
    "colors = [[0,49,79],[216,25,33], [252,228,168], [252,228,168]]"
   ]
  },
  {
   "cell_type": "code",
   "execution_count": 8,
   "id": "c52af2a2",
   "metadata": {},
   "outputs": [],
   "source": [
    "import numpy as np\n",
    "new_img = [colors[i] for i in kmeans.labels_]\n",
    "new_image = np.reshape(new_img, img.shape)"
   ]
  },
  {
   "cell_type": "code",
   "execution_count": 10,
   "id": "09baf6f9",
   "metadata": {},
   "outputs": [
    {
     "data": {
      "image/png": "[encoded data removed]",
      "text/plain": [
       "<Figure size 432x288 with 1 Axes>"
      ]
     },
     "metadata": {
      "needs_background": "light"
     },
     "output_type": "display_data"
    }
   ],
   "source": [
    "from matplotlib import pyplot as plt\n",
    "plt.imshow(new_image, interpolation='nearest')\n",
    "plt.savefig('Obama.png')\n",
    "plt.show()"
   ]
  },
  {
   "cell_type": "code",
   "execution_count": null,
   "id": "aea888b0",
   "metadata": {},
   "outputs": [],
   "source": []
  }
 ],
 "metadata": {
  "kernelspec": {
   "display_name": "Python 3 (ipykernel)",
   "language": "python",
   "name": "python3"
  },
  "language_info": {
   "codemirror_mode": {
    "name": "ipython",
    "version": 3
   },
   "file_extension": ".py",
   "mimetype": "text/x-python",
   "name": "python",
   "nbconvert_exporter": "python",
   "pygments_lexer": "ipython3",
   "version": "3.9.12"
  }
 },
 "nbformat": 4,
 "nbformat_minor": 5
}
